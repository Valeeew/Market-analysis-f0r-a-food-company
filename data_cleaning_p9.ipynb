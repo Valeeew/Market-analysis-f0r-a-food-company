{
  "nbformat": 4,
  "nbformat_minor": 0,
  "metadata": {
    "colab": {
      "name": "data_cleaning_p9.ipynb",
      "provenance": [],
      "authorship_tag": "ABX9TyPri9QciaXeV+nJjmxh79ol",
      "include_colab_link": true
    },
    "kernelspec": {
      "name": "python3",
      "display_name": "Python 3"
    },
    "language_info": {
      "name": "python"
    }
  },
  "cells": [
    {
      "cell_type": "markdown",
      "metadata": {
        "id": "view-in-github",
        "colab_type": "text"
      },
      "source": [
        "<a href=\"https://colab.research.google.com/github/Valeeew/Market-analysis-for-a-food-company/blob/main/data_cleaning_p9.ipynb\" target=\"_parent\"><img src=\"https://colab.research.google.com/assets/colab-badge.svg\" alt=\"Open In Colab\"/></a>"
      ]
    },
    {
      "cell_type": "code",
      "execution_count": null,
      "metadata": {
        "id": "6-L5ScNIr5wV"
      },
      "outputs": [],
      "source": [
        ""
      ]
    }
  ]
}